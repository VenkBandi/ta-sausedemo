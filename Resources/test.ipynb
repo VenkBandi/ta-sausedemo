{
 "cells": [
  {
   "cell_type": "code",
   "execution_count": 74,
   "metadata": {},
   "outputs": [
    {
     "name": "stdout",
     "output_type": "stream",
     "text": [
      "('price', 0, 'name', 1)\n",
      "column1: price\n",
      "criteria1: 0\n",
      "column2: name\n",
      "criteria2: 1\n"
     ]
    },
    {
     "ename": "NameError",
     "evalue": "name 'expectedData' is not defined",
     "output_type": "error",
     "traceback": [
      "\u001b[0;31m---------------------------------------------------------------------------\u001b[0m",
      "\u001b[0;31mNameError\u001b[0m                                 Traceback (most recent call last)",
      "Cell \u001b[0;32mIn[74], line 27\u001b[0m\n\u001b[1;32m     25\u001b[0m df1[\u001b[38;5;124m'\u001b[39m\u001b[38;5;124mprice\u001b[39m\u001b[38;5;124m'\u001b[39m] \u001b[38;5;241m=\u001b[39m df1[\u001b[38;5;124m'\u001b[39m\u001b[38;5;124mprice\u001b[39m\u001b[38;5;124m'\u001b[39m]\u001b[38;5;241m.\u001b[39mstr\u001b[38;5;241m.\u001b[39mreplace(\u001b[38;5;124m'\u001b[39m\u001b[38;5;124m$\u001b[39m\u001b[38;5;124m'\u001b[39m, \u001b[38;5;124m'\u001b[39m\u001b[38;5;124m'\u001b[39m)\u001b[38;5;241m.\u001b[39mastype(\u001b[38;5;28mfloat\u001b[39m)\n\u001b[1;32m     26\u001b[0m df1 \u001b[38;5;241m=\u001b[39m df1\u001b[38;5;241m.\u001b[39msort_values(by\u001b[38;5;241m=\u001b[39m[column1, column2], ascending\u001b[38;5;241m=\u001b[39m[\u001b[38;5;28mbool\u001b[39m(criteria1), \u001b[38;5;28mbool\u001b[39m(criteria2)], ignore_index\u001b[38;5;241m=\u001b[39m\u001b[38;5;28;01mTrue\u001b[39;00m)\n\u001b[0;32m---> 27\u001b[0m df1\u001b[38;5;241m.\u001b[39mto_csv(expectedData, index\u001b[38;5;241m=\u001b[39m\u001b[38;5;28;01mFalse\u001b[39;00m)\n",
      "\u001b[0;31mNameError\u001b[0m: name 'expectedData' is not defined"
     ]
    }
   ],
   "source": [
    "import pandas as pd\n",
    "from pandas.testing import assert_frame_equal\n",
    "from collections import defaultdict\n",
    "\n",
    "\n",
    "\n",
    "\n",
    "excel_path= '../Data/drop_down_menu_data.xlsx'\n",
    "csv_path=   '../nameprice.csv'\n",
    "\n",
    "\n",
    "df1= pd.read_excel(excel_path)\n",
    "sorting_criteria = defaultdict(lambda: (None, None, None, None), {\n",
    "    1: ('name', 1, 'price', 1),\n",
    "    2: ('name', 0, 'price', 1),\n",
    "    3: ('price', 1, 'name', 1),\n",
    "    4: ('price', 0, 'name', 1)\n",
    "    })\n",
    "\n",
    "print(sorting_criteria[4])\n",
    "\n",
    "\n",
    "\n",
    "\n",
    "\n",
    "\n"
   ]
  },
  {
   "cell_type": "code",
   "execution_count": 66,
   "metadata": {},
   "outputs": [
    {
     "name": "stdout",
     "output_type": "stream",
     "text": [
      "                                name   price\n",
      "0           Sauce Labs Fleece Jacket  $49.99\n",
      "1                Sauce Labs Backpack  $29.99\n",
      "2            Sauce Labs Bolt T-Shirt  $15.99\n",
      "3  Test.allTheThings() T-Shirt (Red)  $15.99\n",
      "4              Sauce Labs Bike Light   $9.99\n",
      "5                  Sauce Labs Onesie   $7.99\n",
      "name     object\n",
      "price    object\n",
      "dtype: object\n",
      "False\n"
     ]
    }
   ],
   "source": [
    "from pandas.testing import assert_frame_equal\n",
    "\n",
    "df1= pd.read_excel(excel_path)\n",
    "df2 = pd.read_csv(csv_path)\n",
    "print(df2)\n",
    "print(df2.dtypes)\n",
    "sorting_criteria = {\n",
    "        1: ('name', 1, 'price',1),\n",
    "        2: ('name', 0, 'price',1),\n",
    "        3: ('price', 1, 'name',1),\n",
    "        4: ('price', 0,'name',1)\n",
    "    }\n",
    "column1, criteria1, column2,criteria2= sorting_criteria.get(3, (None, None,None,None))\n",
    "df1['price'] = df1['price'].str.replace('$', '').astype(float)\n",
    "df2['price'] = df2['price'].str.replace('$', '').astype(float)\n",
    "df1 = df1.sort_values(by=[column1, column2], ascending=[bool(criteria1), bool(criteria2)], ignore_index=True)\n",
    "try:\n",
    "    assert_frame_equal(df1, df2)\n",
    "    truth_value = True\n",
    "except AssertionError:\n",
    "    truth_value = False\n",
    "print(truth_value)"
   ]
  },
  {
   "cell_type": "code",
   "execution_count": 70,
   "metadata": {},
   "outputs": [
    {
     "ename": "NameError",
     "evalue": "name 'expectedData' is not defined",
     "output_type": "error",
     "traceback": [
      "\u001b[0;31m---------------------------------------------------------------------------\u001b[0m",
      "\u001b[0;31mNameError\u001b[0m                                 Traceback (most recent call last)",
      "Cell \u001b[0;32mIn[70], line 19\u001b[0m\n\u001b[1;32m     17\u001b[0m     df1\u001b[38;5;241m.\u001b[39mto_csv(expectedData, index\u001b[38;5;241m=\u001b[39m\u001b[38;5;28;01mFalse\u001b[39;00m)\n\u001b[1;32m     18\u001b[0m     \u001b[38;5;28;01mreturn\u001b[39;00m  expectedData\n\u001b[0;32m---> 19\u001b[0m ExpectedData(\u001b[38;5;241m4\u001b[39m,expectedData)\n",
      "\u001b[0;31mNameError\u001b[0m: name 'expectedData' is not defined"
     ]
    }
   ],
   "source": [
    "df1['price'] = df1['price'].str.replace('$', '').astype(float)\n",
    "    df1 = df1.sort_values(by=[column1, column2], ascending=[bool(criteria1), bool(criteria2)], ignore_index=True)\n",
    "    df1.to_csv(expectedData, index=False)\n"
   ]
  },
  {
   "cell_type": "code",
   "execution_count": null,
   "metadata": {},
   "outputs": [],
   "source": []
  }
 ],
 "metadata": {
  "kernelspec": {
   "display_name": "base",
   "language": "python",
   "name": "python3"
  },
  "language_info": {
   "codemirror_mode": {
    "name": "ipython",
    "version": 3
   },
   "file_extension": ".py",
   "mimetype": "text/x-python",
   "name": "python",
   "nbconvert_exporter": "python",
   "pygments_lexer": "ipython3",
   "version": "3.11.5"
  }
 },
 "nbformat": 4,
 "nbformat_minor": 2
}
