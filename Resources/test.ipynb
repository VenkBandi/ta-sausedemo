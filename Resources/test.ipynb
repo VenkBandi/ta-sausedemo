{
 "cells": [
  {
   "cell_type": "code",
   "execution_count": 4,
   "metadata": {},
   "outputs": [
    {
     "name": "stdout",
     "output_type": "stream",
     "text": [
      "            Sauce Labs Fleece Jacket\n",
      "0                Sauce Labs Backpack\n",
      "1            Sauce Labs Bolt T-Shirt\n",
      "2  Test.allTheThings() T-Shirt (Red)\n",
      "3              Sauce Labs Bike Light\n",
      "4                  Sauce Labs Onesie\n",
      "   $49.99\n",
      "0  $29.99\n",
      "1  $15.99\n",
      "2  $15.99\n",
      "3   $9.99\n",
      "4   $7.99\n"
     ]
    }
   ],
   "source": [
    "import pandas as pd\n",
    "\n",
    "def CombineCsvFiles(file1, file2, combined_file):\n",
    "    # Read the CSV files into pandas DataFrames\n",
    "    df1 = pd.read_csv(file1,header=None)\n",
    "    print(df1)\n",
    "    df2 = pd.read_csv(file2,header=None)\n",
    "    print(df2)\n",
    "    combined_df = pd.concat([df1, df2], ignore_index=True)\n",
    "    # Write the combined DataFrame to a new CSV file\n",
    "    combined_df.to_csv(combined_file, index=False)\n",
    "\n",
    "CombineCsvFiles('elements.csv','prices.csv','combinedfile.csv')"
   ]
  },
  {
   "cell_type": "code",
   "execution_count": null,
   "metadata": {},
   "outputs": [],
   "source": []
  }
 ],
 "metadata": {
  "kernelspec": {
   "display_name": "base",
   "language": "python",
   "name": "python3"
  },
  "language_info": {
   "codemirror_mode": {
    "name": "ipython",
    "version": 3
   },
   "file_extension": ".py",
   "mimetype": "text/x-python",
   "name": "python",
   "nbconvert_exporter": "python",
   "pygments_lexer": "ipython3",
   "version": "3.11.5"
  }
 },
 "nbformat": 4,
 "nbformat_minor": 2
}
